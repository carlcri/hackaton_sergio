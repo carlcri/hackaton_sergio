{
 "cells": [
  {
   "cell_type": "markdown",
   "metadata": {},
   "source": [
    "## Prototipo de "
   ]
  },
  {
   "cell_type": "code",
   "execution_count": 5,
   "metadata": {},
   "outputs": [
    {
     "data": {
      "text/plain": [
       "('Ciudad: Perímetro Urbano Barranquilla', 'País: Colombia')"
      ]
     },
     "execution_count": 5,
     "metadata": {},
     "output_type": "execute_result"
    }
   ],
   "source": [
    "from geopy.geocoders import Nominatim\n",
    "\n",
    "def buscar_ciudad(lat, lon):\n",
    "    # Inicializar el geocodificador\n",
    "    geolocator = Nominatim(user_agent=\"geoapiExercises\")\n",
    "\n",
    "\n",
    "\n",
    "    # Geocodificación inversa\n",
    "    location = geolocator.reverse((lat, lon), language='en')\n",
    "\n",
    "\n",
    "    # Mostrar ciudad y país\n",
    "    if location:\n",
    "        ciudad = f\"Ciudad: {location.raw['address'].get('city', 'No disponible')}\"\n",
    "        pais = f\"País: {location.raw['address'].get('country', 'No disponible')}\"\n",
    "    else:\n",
    "        return None\n",
    "    \n",
    "    return ciudad, pais\n",
    "\n",
    "\n",
    "# Coordenadas de Barranquilla (latitud, longitud)\n",
    "latitud = 10.96389\n",
    "longitud = -74.79636\n",
    "\n",
    "buscar_ciudad(lat=latitud, lon=longitud)\n",
    "\n",
    "\n",
    "\n",
    "\n",
    "# # Coordenadas de ejemplo (latitud, longitud)\n",
    "# lat = 4.60971\n",
    "# lon = -74.08175\n",
    "\n",
    "# # Coordenadas de Medellín (latitud, longitud)\n",
    "# lat = 6.25184\n",
    "# lon = -75.56359\n",
    "\n",
    "\n",
    "\n",
    "\n",
    "\n"
   ]
  }
 ],
 "metadata": {
  "kernelspec": {
   "display_name": "env",
   "language": "python",
   "name": "python3"
  },
  "language_info": {
   "codemirror_mode": {
    "name": "ipython",
    "version": 3
   },
   "file_extension": ".py",
   "mimetype": "text/x-python",
   "name": "python",
   "nbconvert_exporter": "python",
   "pygments_lexer": "ipython3",
   "version": "3.10.12"
  }
 },
 "nbformat": 4,
 "nbformat_minor": 2
}
